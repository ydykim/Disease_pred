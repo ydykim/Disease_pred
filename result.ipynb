{
  "nbformat": 4,
  "nbformat_minor": 0,
  "metadata": {
    "colab": {
      "provenance": [],
      "gpuType": "T4"
    },
    "kernelspec": {
      "name": "python3",
      "display_name": "Python 3"
    },
    "language_info": {
      "name": "python"
    },
    "accelerator": "GPU"
  },
  "cells": [
    {
      "cell_type": "markdown",
      "source": [
        "# Imports"
      ],
      "metadata": {
        "id": "uh3RUF58-fpy"
      }
    },
    {
      "cell_type": "code",
      "execution_count": 2,
      "metadata": {
        "id": "Yl1as_58-eEP"
      },
      "outputs": [],
      "source": [
        "import pandas as pd\n",
        "import os\n",
        "from imblearn.over_sampling import SMOTE\n",
        "from sklearn.impute import SimpleImputer\n",
        "from sklearn import preprocessing\n",
        "from sklearn.decomposition import PCA\n",
        "from sklearn.model_selection import train_test_split\n",
        "from sklearn.ensemble import RandomForestClassifier\n",
        "from sklearn.model_selection import GridSearchCV\n",
        "from sklearn.metrics import accuracy_score, f1_score, precision_score, recall_score\n"
      ]
    },
    {
      "cell_type": "markdown",
      "source": [
        "# Preprocessing"
      ],
      "metadata": {
        "id": "yN6cetsn-lxQ"
      }
    },
    {
      "cell_type": "code",
      "source": [
        "data = pd.read_csv('train.csv')\n",
        "\n",
        "test = pd.read_csv('test.csv')\n",
        "\n",
        "data = data[data['original'] == 1]\n",
        "data = data.reset_index(drop=True)\n",
        "\n",
        "test = test[test['original'] == 1]\n",
        "test = test.reset_index(drop=True)\n",
        "\n",
        "labels = data['timestamp(day)']\n",
        "data = data.drop('timestamp(day)', axis=1)\n",
        "\n",
        "test_labels = test['timestamp(day)']\n",
        "test_data = test.drop('timestamp(day)', axis=1)\n",
        "\n",
        "\n",
        "# Imputation(by mean)\n",
        "imputer = SimpleImputer(strategy='mean')\n",
        "imputed_data = imputer.fit_transform(data)\n",
        "data = pd.DataFrame(imputed_data, columns=data.columns)\n",
        "\n",
        "imputer = SimpleImputer(strategy='mean')\n",
        "imputed_test_data = imputer.fit_transform(test_data)\n",
        "test_data = pd.DataFrame(imputed_test_data, columns=test_data.columns)\n",
        "\n",
        "#SMOTE\n",
        "smote = SMOTE()\n",
        "balanced_data, balanced_labels = smote.fit_resample(data, labels)\n",
        "\n",
        "data = pd.DataFrame(balanced_data, columns=data.columns)\n",
        "labels = balanced_labels\n",
        "\n",
        "smote = SMOTE()\n",
        "balanced_test_data, balanced_test_labels = smote.fit_resample(test_data, test_labels)\n",
        "\n",
        "test_data = pd.DataFrame(balanced_test_data, columns=test_data.columns)\n",
        "test_labels = balanced_test_labels\n"
      ],
      "metadata": {
        "id": "loWnC1YD-mA4"
      },
      "execution_count": 4,
      "outputs": []
    },
    {
      "cell_type": "markdown",
      "source": [
        "# EDA\n"
      ],
      "metadata": {
        "id": "yGSIpZMc-mb8"
      }
    },
    {
      "cell_type": "code",
      "source": [
        "data_scaled = preprocessing.scale(data)\n",
        "pca = PCA()\n",
        "pca.fit(data_scaled)\n",
        "\n",
        "explained_variance_ratio = pca.explained_variance_ratio_\n",
        "\n",
        "n_components = 32\n",
        "data_transformed = pca.transform(data_scaled)[:, :n_components]\n",
        "pca_data = pd.DataFrame(data_transformed)\n",
        "data = pca_data\n",
        "\n",
        "test_data_scaled = preprocessing.scale(test_data)\n",
        "pca = PCA()\n",
        "pca.fit(test_data_scaled)\n",
        "\n",
        "explained_variance_ratio = pca.explained_variance_ratio_\n",
        "\n",
        "n_components = 32\n",
        "test_data_transformed = pca.transform(test_data_scaled)[:, :n_components]\n",
        "pca_test_data = pd.DataFrame(test_data_transformed)\n",
        "test_data = pca_test_data"
      ],
      "metadata": {
        "id": "4kAua9GP-mrt"
      },
      "execution_count": 5,
      "outputs": []
    },
    {
      "cell_type": "markdown",
      "source": [
        "# Model Selection\n",
        "\n"
      ],
      "metadata": {
        "id": "pg6SnCu8-nI3"
      }
    },
    {
      "cell_type": "code",
      "source": [
        "model = RandomForestClassifier()"
      ],
      "metadata": {
        "id": "NWJ6mDp3_IxK"
      },
      "execution_count": 6,
      "outputs": []
    },
    {
      "cell_type": "markdown",
      "source": [
        "# Model Tuning\n",
        "\n"
      ],
      "metadata": {
        "id": "Zl_ZtSTd_JFA"
      }
    },
    {
      "cell_type": "code",
      "source": [
        "param_grid = {\n",
        "    'n_estimators': [100, 200, 300],\n",
        "    'max_depth': [None, 5, 10],\n",
        "    'min_samples_split': [2, 5, 10]\n",
        "}\n",
        "\n",
        "grid_search = GridSearchCV(model, param_grid, scoring='f1_weighted', cv=2)\n",
        "grid_search.fit(data, labels)\n",
        "\n",
        "best_params = grid_search.best_params_\n",
        "best_score = grid_search.best_score_\n",
        "\n",
        "best_model = RandomForestClassifier(**best_params)\n",
        "best_model.fit(data, labels)"
      ],
      "metadata": {
        "id": "6rH-i_pz_JdU",
        "outputId": "57aa0a9f-263f-48f9-d4b1-e665b357ce6d",
        "colab": {
          "base_uri": "https://localhost:8080/",
          "height": 75
        }
      },
      "execution_count": 7,
      "outputs": [
        {
          "output_type": "execute_result",
          "data": {
            "text/plain": [
              "RandomForestClassifier(n_estimators=300)"
            ],
            "text/html": [
              "<style>#sk-container-id-1 {color: black;background-color: white;}#sk-container-id-1 pre{padding: 0;}#sk-container-id-1 div.sk-toggleable {background-color: white;}#sk-container-id-1 label.sk-toggleable__label {cursor: pointer;display: block;width: 100%;margin-bottom: 0;padding: 0.3em;box-sizing: border-box;text-align: center;}#sk-container-id-1 label.sk-toggleable__label-arrow:before {content: \"▸\";float: left;margin-right: 0.25em;color: #696969;}#sk-container-id-1 label.sk-toggleable__label-arrow:hover:before {color: black;}#sk-container-id-1 div.sk-estimator:hover label.sk-toggleable__label-arrow:before {color: black;}#sk-container-id-1 div.sk-toggleable__content {max-height: 0;max-width: 0;overflow: hidden;text-align: left;background-color: #f0f8ff;}#sk-container-id-1 div.sk-toggleable__content pre {margin: 0.2em;color: black;border-radius: 0.25em;background-color: #f0f8ff;}#sk-container-id-1 input.sk-toggleable__control:checked~div.sk-toggleable__content {max-height: 200px;max-width: 100%;overflow: auto;}#sk-container-id-1 input.sk-toggleable__control:checked~label.sk-toggleable__label-arrow:before {content: \"▾\";}#sk-container-id-1 div.sk-estimator input.sk-toggleable__control:checked~label.sk-toggleable__label {background-color: #d4ebff;}#sk-container-id-1 div.sk-label input.sk-toggleable__control:checked~label.sk-toggleable__label {background-color: #d4ebff;}#sk-container-id-1 input.sk-hidden--visually {border: 0;clip: rect(1px 1px 1px 1px);clip: rect(1px, 1px, 1px, 1px);height: 1px;margin: -1px;overflow: hidden;padding: 0;position: absolute;width: 1px;}#sk-container-id-1 div.sk-estimator {font-family: monospace;background-color: #f0f8ff;border: 1px dotted black;border-radius: 0.25em;box-sizing: border-box;margin-bottom: 0.5em;}#sk-container-id-1 div.sk-estimator:hover {background-color: #d4ebff;}#sk-container-id-1 div.sk-parallel-item::after {content: \"\";width: 100%;border-bottom: 1px solid gray;flex-grow: 1;}#sk-container-id-1 div.sk-label:hover label.sk-toggleable__label {background-color: #d4ebff;}#sk-container-id-1 div.sk-serial::before {content: \"\";position: absolute;border-left: 1px solid gray;box-sizing: border-box;top: 0;bottom: 0;left: 50%;z-index: 0;}#sk-container-id-1 div.sk-serial {display: flex;flex-direction: column;align-items: center;background-color: white;padding-right: 0.2em;padding-left: 0.2em;position: relative;}#sk-container-id-1 div.sk-item {position: relative;z-index: 1;}#sk-container-id-1 div.sk-parallel {display: flex;align-items: stretch;justify-content: center;background-color: white;position: relative;}#sk-container-id-1 div.sk-item::before, #sk-container-id-1 div.sk-parallel-item::before {content: \"\";position: absolute;border-left: 1px solid gray;box-sizing: border-box;top: 0;bottom: 0;left: 50%;z-index: -1;}#sk-container-id-1 div.sk-parallel-item {display: flex;flex-direction: column;z-index: 1;position: relative;background-color: white;}#sk-container-id-1 div.sk-parallel-item:first-child::after {align-self: flex-end;width: 50%;}#sk-container-id-1 div.sk-parallel-item:last-child::after {align-self: flex-start;width: 50%;}#sk-container-id-1 div.sk-parallel-item:only-child::after {width: 0;}#sk-container-id-1 div.sk-dashed-wrapped {border: 1px dashed gray;margin: 0 0.4em 0.5em 0.4em;box-sizing: border-box;padding-bottom: 0.4em;background-color: white;}#sk-container-id-1 div.sk-label label {font-family: monospace;font-weight: bold;display: inline-block;line-height: 1.2em;}#sk-container-id-1 div.sk-label-container {text-align: center;}#sk-container-id-1 div.sk-container {/* jupyter's `normalize.less` sets `[hidden] { display: none; }` but bootstrap.min.css set `[hidden] { display: none !important; }` so we also need the `!important` here to be able to override the default hidden behavior on the sphinx rendered scikit-learn.org. See: https://github.com/scikit-learn/scikit-learn/issues/21755 */display: inline-block !important;position: relative;}#sk-container-id-1 div.sk-text-repr-fallback {display: none;}</style><div id=\"sk-container-id-1\" class=\"sk-top-container\"><div class=\"sk-text-repr-fallback\"><pre>RandomForestClassifier(n_estimators=300)</pre><b>In a Jupyter environment, please rerun this cell to show the HTML representation or trust the notebook. <br />On GitHub, the HTML representation is unable to render, please try loading this page with nbviewer.org.</b></div><div class=\"sk-container\" hidden><div class=\"sk-item\"><div class=\"sk-estimator sk-toggleable\"><input class=\"sk-toggleable__control sk-hidden--visually\" id=\"sk-estimator-id-1\" type=\"checkbox\" checked><label for=\"sk-estimator-id-1\" class=\"sk-toggleable__label sk-toggleable__label-arrow\">RandomForestClassifier</label><div class=\"sk-toggleable__content\"><pre>RandomForestClassifier(n_estimators=300)</pre></div></div></div></div></div>"
            ]
          },
          "metadata": {},
          "execution_count": 7
        }
      ]
    },
    {
      "cell_type": "markdown",
      "source": [
        "# Model Evaluation / Metrics"
      ],
      "metadata": {
        "id": "Y-k5WmJq_NCU"
      }
    },
    {
      "cell_type": "code",
      "source": [
        "pred = best_model.predict(test_data)\n",
        "\n",
        "accuracy = accuracy_score(test_labels, pred)\n",
        "f1 = f1_score(test_labels, pred, average='weighted')\n",
        "precision = precision_score(test_labels, pred, average='weighted')\n",
        "recall = recall_score(test_labels, pred, average='weighted')\n",
        "\n",
        "print('Accuracy:', accuracy)\n",
        "print('F1-Score:', f1)\n",
        "print('Precision:', precision)\n",
        "print('Recall:', recall)"
      ],
      "metadata": {
        "id": "e0EvXMMKwMHC",
        "outputId": "bfb2f309-a612-417b-d2ef-ec0ea6da69ec",
        "colab": {
          "base_uri": "https://localhost:8080/"
        }
      },
      "execution_count": 8,
      "outputs": [
        {
          "output_type": "stream",
          "name": "stdout",
          "text": [
            "Accuracy: 0.13643420882390994\n",
            "F1-Score: 0.10615938667400861\n",
            "Precision: 0.10495356889129541\n",
            "Recall: 0.13643420882390994\n"
          ]
        }
      ]
    }
  ]
}